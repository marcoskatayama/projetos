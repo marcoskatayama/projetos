{
 "cells": [
  {
   "cell_type": "markdown",
   "id": "2285a3a9",
   "metadata": {},
   "source": [
    "# web0001 - Microblog\n",
    "\n",
    "### Estrutura das pastas\n",
    "* microblog\n",
    "    * app\n",
    "        * static\n",
    "           * css\n",
    "           * images\n",
    "        * templates\n",
    "           * index.html\n",
    "           * contato.html\n",
    "           * model.html\n",
    "        * __init__.py\n",
    "        * routes.py\n",
    "    * venv"
   ]
  },
  {
   "cell_type": "markdown",
   "id": "a3e5f1d1",
   "metadata": {},
   "source": [
    "### Criar ambiente virtual para executar o projeto"
   ]
  },
  {
   "cell_type": "code",
   "execution_count": 2,
   "id": "49b7e816",
   "metadata": {},
   "outputs": [
    {
     "ename": "SyntaxError",
     "evalue": "invalid syntax (717537615.py, line 1)",
     "output_type": "error",
     "traceback": [
      "\u001b[1;36m  Cell \u001b[1;32mIn[2], line 1\u001b[1;36m\u001b[0m\n\u001b[1;33m    python -m venv venv\u001b[0m\n\u001b[1;37m              ^\u001b[0m\n\u001b[1;31mSyntaxError\u001b[0m\u001b[1;31m:\u001b[0m invalid syntax\n"
     ]
    }
   ],
   "source": [
    "python -m venv venv"
   ]
  },
  {
   "cell_type": "markdown",
   "id": "c990e3c7",
   "metadata": {},
   "source": [
    "### Ativando ambiente virtual"
   ]
  },
  {
   "cell_type": "code",
   "execution_count": 4,
   "id": "394d3043",
   "metadata": {},
   "outputs": [
    {
     "ename": "SyntaxError",
     "evalue": "invalid syntax (4148924345.py, line 1)",
     "output_type": "error",
     "traceback": [
      "\u001b[1;36m  Cell \u001b[1;32mIn[4], line 1\u001b[1;36m\u001b[0m\n\u001b[1;33m    .\\venv\\Scripts\\activate\u001b[0m\n\u001b[1;37m    ^\u001b[0m\n\u001b[1;31mSyntaxError\u001b[0m\u001b[1;31m:\u001b[0m invalid syntax\n"
     ]
    }
   ],
   "source": [
    ".\\venv\\Scripts\\activate"
   ]
  },
  {
   "cell_type": "markdown",
   "id": "74e61bec",
   "metadata": {},
   "source": [
    "### Criar o arquivo __init__.py"
   ]
  },
  {
   "cell_type": "code",
   "execution_count": null,
   "id": "1870ad61",
   "metadata": {},
   "outputs": [],
   "source": [
    "from flask import flask\n",
    "\n",
    "app = Flask(__name__)\n",
    "\n",
    "from app import routes"
   ]
  },
  {
   "cell_type": "markdown",
   "id": "0abc77a1",
   "metadata": {},
   "source": [
    "### Criar arquivo routes.py"
   ]
  },
  {
   "cell_type": "code",
   "execution_count": null,
   "id": "848101bd",
   "metadata": {},
   "outputs": [],
   "source": [
    "from app import app\n",
    "\n",
    "@app.route('/')\n",
    "@app.route('/index')\n",
    "def index():\n",
    "    return \"Hello World!\""
   ]
  },
  {
   "cell_type": "markdown",
   "id": "2e7dfcd7",
   "metadata": {},
   "source": [
    "### Criar arquivo microblog.py"
   ]
  },
  {
   "cell_type": "code",
   "execution_count": null,
   "id": "5d0cd7af",
   "metadata": {},
   "outputs": [],
   "source": [
    "from app import app"
   ]
  },
  {
   "cell_type": "markdown",
   "id": "f2625c86",
   "metadata": {},
   "source": [
    "### Criar arquivo de variáveis globais\n",
    "1. pip install python-dotenv\n",
    "2. criar arquivo na pasta raiz do projeto chamado .flaskenv\n",
    "3. adicionar seguintes variáveis:\n",
    "\n",
    "- FLASK_APP=microblog.py \n",
    "- FLASK_ENV=development"
   ]
  },
  {
   "cell_type": "markdown",
   "id": "3d8e4165",
   "metadata": {},
   "source": [
    "### Para executar o servidor\n",
    "- flask run"
   ]
  },
  {
   "cell_type": "markdown",
   "id": "75388457",
   "metadata": {},
   "source": [
    "### Carregar páginas html\n",
    "\n",
    "- Páginas serão criadas na pasta templates\n",
    "- No arquivo routes.py"
   ]
  },
  {
   "cell_type": "code",
   "execution_count": null,
   "id": "5455b2bd",
   "metadata": {},
   "outputs": [],
   "source": [
    "from app import app\n",
    "from flask import render_template\n",
    "\n",
    "@app.route('/')\n",
    "@app.route('/index')\n",
    "def index():\n",
    "    nome = 'Marcos'\n",
    "    dados = {'Profissão':'Desenvolvedor', 'Cidade': 'Maringá'}\n",
    "    return render_template('index.html', nome=nome, dados=dados)\n",
    "\n",
    "@app.route('/contato')\n",
    "def contato():\n",
    "    return render_template('contato.html')"
   ]
  },
  {
   "cell_type": "markdown",
   "id": "3b6c70a9",
   "metadata": {},
   "source": [
    "### Página modelo\n",
    "- Páginas com mesmo layoute, podemos utilizar uma página como base.\n",
    "- Iremos criar na pasta templates um arquivo chamado model.html\n",
    "- O que ficar entre {% block conteudo %} e {% endblock %} será o conteúdo carregado"
   ]
  },
  {
   "cell_type": "code",
   "execution_count": null,
   "id": "b763feda",
   "metadata": {},
   "outputs": [],
   "source": [
    "<!DOCTYPE html>\n",
    "<html lang=\"pt-br\">\n",
    "<head>\n",
    "    <meta charset=\"UTF-8\">\n",
    "    <meta name=\"viewport\" content=\"width=device-width, initial-scale=1.0\">\n",
    "    <title>Microblog</title>\n",
    "</head>\n",
    "<body>\n",
    "    <nav>\n",
    "        <a href=\"/index\">Home</a>\n",
    "        <a href=\"/contato\">Contato</a>\n",
    "    </nav>\n",
    "    {% block conteudo %}\n",
    "    {% endblock %}\n",
    "</body>\n",
    "</html>"
   ]
  },
  {
   "cell_type": "markdown",
   "id": "e8fb7976",
   "metadata": {},
   "source": [
    "### Importando layout\n",
    "- Nas páginas basta inserir seguinte código:\n",
    "    - {% extends 'model.html' %} que irá extender de model.html a estrutura html\n",
    "    - {% block conteudo %} e {% endblock %} tudo que ficar entre estes códigos será carregado dentro do modelo de layout"
   ]
  },
  {
   "cell_type": "code",
   "execution_count": null,
   "id": "d18bfbd7",
   "metadata": {},
   "outputs": [],
   "source": [
    "{% extends 'model.html' %}\n",
    "\n",
    "{% block conteudo %}\n",
    "    <h>Seja bem vindo!</h>\n",
    "    <p>Aqui vai o conteúdo</p>\n",
    "{% endblock %}"
   ]
  },
  {
   "cell_type": "markdown",
   "id": "8bf96f26",
   "metadata": {},
   "source": [
    "## Arquivos estáticos\n",
    "- Imagens\n",
    "- CSS"
   ]
  },
  {
   "cell_type": "markdown",
   "id": "e589ea66",
   "metadata": {},
   "source": [
    "### Imagens\n",
    "No arquivo model.html iremos adicionar uma logo que iremos salvar na pasta app/static/images/logo.png"
   ]
  },
  {
   "cell_type": "code",
   "execution_count": null,
   "id": "e8be1ca1",
   "metadata": {},
   "outputs": [],
   "source": [
    "<!DOCTYPE html>\n",
    "<html lang=\"pt-br\">\n",
    "<head>\n",
    "    <meta charset=\"UTF-8\">\n",
    "    <meta name=\"viewport\" content=\"width=device-width, initial-scale=1.0\">\n",
    "    <title>Microblog</title>\n",
    "</head>\n",
    "<body>\n",
    "    <nav>\n",
    "        <img src=\"{{ url_for('static', filename='images/logo.png') }}\">\n",
    "        <a href=\"/index\">Home</a>\n",
    "        <a href=\"/contato\">Contato</a>\n",
    "    </nav>\n",
    "    {% block conteudo %}\n",
    "    {% endblock %}\n",
    "</body>\n",
    "</html>"
   ]
  },
  {
   "cell_type": "markdown",
   "id": "3d518d6d",
   "metadata": {},
   "source": [
    "### CSS\n",
    "Iremos criar na pasta app/static/css/estilo.css"
   ]
  },
  {
   "cell_type": "code",
   "execution_count": null,
   "id": "1e4e510c",
   "metadata": {},
   "outputs": [],
   "source": [
    ".logo{\n",
    "    width: 200px;\n",
    "    height: 100px;\n",
    "}"
   ]
  },
  {
   "cell_type": "markdown",
   "id": "e1815459",
   "metadata": {},
   "source": [
    "e no arquivo model.html iremos referenciar o css"
   ]
  },
  {
   "cell_type": "code",
   "execution_count": null,
   "id": "8b5a7eee",
   "metadata": {},
   "outputs": [],
   "source": [
    "<!DOCTYPE html>\n",
    "<html lang=\"pt-br\">\n",
    "<head>\n",
    "    <meta charset=\"UTF-8\">\n",
    "    <meta name=\"viewport\" content=\"width=device-width, initial-scale=1.0\">\n",
    "    <title>Microblog</title>\n",
    "    <link rel=\"stylesheet\" href=\"{{ url_for('static', filename='css/estilo.css')}}\"/>\n",
    "</head>\n",
    "<body>\n",
    "    <nav>\n",
    "        <img class=\"logo\" src=\"{{ url_for('static', filename='images/logo.png') }}\">\n",
    "        <a href=\"/index\">Home</a>\n",
    "        <a href=\"/contato\">Contato</a>\n",
    "    </nav>\n",
    "    {% block conteudo %}\n",
    "    {% endblock %}\n",
    "</body>\n",
    "</html>"
   ]
  },
  {
   "cell_type": "markdown",
   "id": "e675d64e",
   "metadata": {},
   "source": [
    "### Trabalhando com passagem de parâmetros via rotas\n",
    "Criaremos arquivo chamado usuario.html"
   ]
  },
  {
   "cell_type": "code",
   "execution_count": null,
   "id": "41ff4b65",
   "metadata": {},
   "outputs": [],
   "source": [
    "{% extends 'model.html' %}\n",
    "\n",
    "{% block conteudo %}\n",
    "    <h>Seja bem vindo {{ nome }}</h>\n",
    "    <p>Profissão: {{ dados.Profissão }}</p>\n",
    "    <p>Cidade: {{ dados.Cidade }}</p>\n",
    "    <p>UF: {{ dados.UF }}</p>\n",
    "{% endblock %}"
   ]
  },
  {
   "cell_type": "markdown",
   "id": "3b040f6e",
   "metadata": {},
   "source": [
    "No arquivo routes.py iremos passar parametro 'nome' na url http://127.0.0.1:5000/usuario/marcos caso usário não informe o nome na url será passado 'usuário' como default."
   ]
  },
  {
   "cell_type": "code",
   "execution_count": null,
   "id": "7cc29085",
   "metadata": {},
   "outputs": [],
   "source": [
    "from app import app\n",
    "from flask import render_template\n",
    "\n",
    "@app.route('/')\n",
    "@app.route('/index')\n",
    "def index():\n",
    "    return render_template('index.html')\n",
    "\n",
    "@app.route('/contato')\n",
    "def contato():\n",
    "    return render_template('contato.html')\n",
    "\n",
    "@app.route('/usuario', defaults={'nome':'usuário'})\n",
    "@app.route('/usuario/<nome>')\n",
    "def usuario(nome):\n",
    "    dados = {'Profissão':'Desenvolvedor', 'Cidade': 'Maringá', 'UF': 'PR'}\n",
    "    return render_template('usuario.html', nome=nome, dados=dados)"
   ]
  },
  {
   "cell_type": "markdown",
   "id": "4bd10ad0",
   "metadata": {},
   "source": [
    "### Passagem de parâmetros via métodos GET\n",
    "Vamos criar um arquivo chamado login.html dentro de templates e adicionar código abaixo"
   ]
  },
  {
   "cell_type": "code",
   "execution_count": null,
   "id": "a5f5b752",
   "metadata": {},
   "outputs": [],
   "source": [
    "{% extends 'model.html' %}\n",
    "{% block conteudo %}\n",
    "    <h1>Via GET</h1>\n",
    "    <form action=\"/autenticar\" method=\"get\">\n",
    "        Usuário: <input type=\"text\" name=\"usuario\"><br/>\n",
    "        Senha: <input type=\"password\" name=\"senha\"><br/>\n",
    "        <button type=\"submit\">Entrar</button>\n",
    "    </form>\n",
    "{% endblock %}"
   ]
  },
  {
   "cell_type": "markdown",
   "id": "75d53b6e",
   "metadata": {},
   "source": [
    "e no arquivo routes.py adicionar o seguinte código:"
   ]
  },
  {
   "cell_type": "code",
   "execution_count": null,
   "id": "27c6771e",
   "metadata": {},
   "outputs": [],
   "source": [
    "from flask import request\n",
    "\n",
    "@app.route('/login')\n",
    "def login():\n",
    "    return render_template('login.html')\n",
    "\n",
    "@app.route('/autenticar', methods=['GET'])\n",
    "def autenticar():\n",
    "    usuario = request.args.get('usuario')\n",
    "    senha = request.args.get('senha')\n",
    "    return 'usuário: {} e senha: {}'.format(usuario,senha)"
   ]
  },
  {
   "cell_type": "markdown",
   "id": "fdf5558b",
   "metadata": {},
   "source": [
    "### Passagem de parâmetros via métodos POST\n",
    "No arquivo login.html vamos adicionar código abaixo:"
   ]
  },
  {
   "cell_type": "code",
   "execution_count": null,
   "id": "86dd6bde",
   "metadata": {},
   "outputs": [],
   "source": [
    "<h1>Via POST</h1>\n",
    "    <form action=\"/autenticarviapost\" method=\"post\">\n",
    "        Usuário: <input type=\"text\" name=\"usuario\"><br/>\n",
    "        Senha: <input type=\"password\" name=\"senha\"><br/>\n",
    "        <button type=\"submit\">Entrar</button>\n",
    "    </form>"
   ]
  },
  {
   "cell_type": "markdown",
   "id": "d2ed31f1",
   "metadata": {},
   "source": [
    "e no arquivo routes.py adicionar o seguinte código:"
   ]
  },
  {
   "cell_type": "code",
   "execution_count": null,
   "id": "e02db48d",
   "metadata": {},
   "outputs": [],
   "source": [
    "@app.route('/autenticarviapost', methods=['POST'])\n",
    "def autenticarviapost():\n",
    "    usuario = request.form.get('usuario')\n",
    "    senha = request.form.get('senha')\n",
    "    return 'usuário: {} e senha: {}'.format(usuario,senha)"
   ]
  },
  {
   "cell_type": "markdown",
   "id": "1561f630",
   "metadata": {},
   "source": [
    "### Trabalhando com flash message em Flask"
   ]
  },
  {
   "cell_type": "markdown",
   "id": "b4f63248",
   "metadata": {},
   "source": [
    "Em __init__.py vamos adicionar uma configuração necssária quando é trabalhado com sessão:"
   ]
  },
  {
   "cell_type": "code",
   "execution_count": null,
   "id": "3a99570a",
   "metadata": {},
   "outputs": [],
   "source": [
    "app.config['SECRET_KEY'] = 'MINHA PALAVRA SECRETA'"
   ]
  },
  {
   "cell_type": "markdown",
   "id": "c59d5765",
   "metadata": {},
   "source": [
    "No arquivo routes.py vamos adicionar o seguinte código:"
   ]
  },
  {
   "cell_type": "code",
   "execution_count": null,
   "id": "6c4b9d34",
   "metadata": {},
   "outputs": [],
   "source": [
    "from flask import flash, redirect\n",
    "\n",
    "@app.route('/autenticarviapost', methods=['POST'])\n",
    "def autenticarviapost():\n",
    "    usuario = request.form.get('usuario')\n",
    "    senha = request.form.get('senha')\n",
    "\n",
    "    if usuario == 'admin' and senha== '123':\n",
    "        return 'usuário: {} e senha: {}'.format(usuario,senha)\n",
    "    else:\n",
    "        flash('Dados inválidos!')\n",
    "        return redirect('/login')"
   ]
  },
  {
   "cell_type": "markdown",
   "id": "1d71f77f",
   "metadata": {},
   "source": [
    "No arqauivo login.html vamos adicionar seguinte código:"
   ]
  },
  {
   "cell_type": "code",
   "execution_count": null,
   "id": "f4b9f348",
   "metadata": {},
   "outputs": [],
   "source": [
    "{% extends 'model.html' %}\n",
    "{% block conteudo %}\n",
    "    <h1>Via GET</h1>\n",
    "    <form action=\"/autenticar\" method=\"get\">\n",
    "        Usuário: <input type=\"text\" name=\"usuario\"><br/>\n",
    "        Senha: <input type=\"password\" name=\"senha\"><br/>\n",
    "        <button type=\"submit\">Entrar</button>\n",
    "    </form>\n",
    "\n",
    "    {% set mensagens = get_flashed_messages() %}\n",
    "    {% if mensagens %}\n",
    "        <div>Aqui vai aparecer a mensagem flash</div>\n",
    "    {% endif %}\n",
    "\n",
    "    <h1>Via POST</h1>\n",
    "    <form action=\"/autenticarviapost\" method=\"post\">\n",
    "        Usuário: <input type=\"text\" name=\"usuario\"><br/>\n",
    "        Senha: <input type=\"password\" name=\"senha\"><br/>\n",
    "        <button type=\"submit\">Entrar</button>\n",
    "    </form>\n",
    "{% endblock %}"
   ]
  }
 ],
 "metadata": {
  "kernelspec": {
   "display_name": "Python 3 (ipykernel)",
   "language": "python",
   "name": "python3"
  },
  "language_info": {
   "codemirror_mode": {
    "name": "ipython",
    "version": 3
   },
   "file_extension": ".py",
   "mimetype": "text/x-python",
   "name": "python",
   "nbconvert_exporter": "python",
   "pygments_lexer": "ipython3",
   "version": "3.11.5"
  }
 },
 "nbformat": 4,
 "nbformat_minor": 5
}
